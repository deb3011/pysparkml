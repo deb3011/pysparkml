{
 "cells": [
  {
   "cell_type": "markdown",
   "id": "8a5e3f38",
   "metadata": {},
   "source": [
    "## Pypspark with financial log  dataset \n",
    "Dataset link: https://www.kaggle.com/datasets/ealaxi/paysim1/"
   ]
  },
  {
   "cell_type": "code",
   "execution_count": 1,
   "id": "57780c25",
   "metadata": {},
   "outputs": [
    {
     "name": "stdout",
     "output_type": "stream",
     "text": [
      "23/12/15 06:31:29 WARN Utils: Your hostname, kudsit-HP-ProOne-600-G6-22-All-in-One-PC resolves to a loopback address: 127.0.1.1; using 10.10.28.180 instead (on interface eno1)\n",
      "23/12/15 06:31:29 WARN Utils: Set SPARK_LOCAL_IP if you need to bind to another address\n"
     ]
    },
    {
     "name": "stderr",
     "output_type": "stream",
     "text": [
      "Setting default log level to \"WARN\".\n",
      "To adjust logging level use sc.setLogLevel(newLevel). For SparkR, use setLogLevel(newLevel).\n"
     ]
    },
    {
     "name": "stdout",
     "output_type": "stream",
     "text": [
      "23/12/15 06:31:30 WARN NativeCodeLoader: Unable to load native-hadoop library for your platform... using builtin-java classes where applicable\n"
     ]
    }
   ],
   "source": [
    "# %load_ext nb_black\n",
    "# !pip install pyspark\n",
    "from pyspark.sql import SparkSession\n",
    "import pyspark.sql.functions as F\n",
    "import pyspark.sql.types as T\n",
    "spark = SparkSession.builder.getOrCreate()"
   ]
  },
  {
   "cell_type": "code",
   "execution_count": 41,
   "id": "67c5b1a7",
   "metadata": {},
   "outputs": [],
   "source": [
    "# 1. Import required depencies n packages\n",
    "# 2. Load the csv file\n",
    "# 3. Spilt the dataset\n",
    "# 4. Check the datatypes of the attributes\n",
    "# 5. String Indexer\n",
    "# 6. One Hot encoding \n",
    "# 7. vector Assembler \n",
    "# 8. Fitting the model \n",
    "# 9. Get the metrics\n"
   ]
  },
  {
   "cell_type": "code",
   "execution_count": 5,
   "id": "c6d63d34",
   "metadata": {},
   "outputs": [],
   "source": [
    "import os\n",
    "from os.path import isfile, join \n",
    "\n",
    "# loc = os.path.abspath(\"\")\n",
    "# data_loc = f\"{loc}/data/\"\n",
    "# # spark = SparkSession.builder.appName(\"Loading CSV\").getOrCreate()"
   ]
  },
  {
   "cell_type": "code",
   "execution_count": 9,
   "id": "ec87c38d",
   "metadata": {},
   "outputs": [
    {
     "name": "stderr",
     "output_type": "stream",
     "text": [
      "                                                                                \r"
     ]
    }
   ],
   "source": [
    "#replace file_path with the file path and file name with the actual file name of the dataset \n",
    "df= spark.read.csv(\"file_path/file_name.csv\", inferSchema= True, header = True)\n",
    "# df = spark.read.csv(\n",
    "#     f\"{data_loc}financial_dataset.csv\", inferSchema = True, header = True)"
   ]
  },
  {
   "cell_type": "code",
   "execution_count": 10,
   "id": "424dbcd5",
   "metadata": {
    "scrolled": true
   },
   "outputs": [
    {
     "name": "stdout",
     "output_type": "stream",
     "text": [
      "root\n",
      " |-- step: integer (nullable = true)\n",
      " |-- type: string (nullable = true)\n",
      " |-- amount: double (nullable = true)\n",
      " |-- nameOrig: string (nullable = true)\n",
      " |-- oldbalanceOrg: double (nullable = true)\n",
      " |-- newbalanceOrig: double (nullable = true)\n",
      " |-- nameDest: string (nullable = true)\n",
      " |-- oldbalanceDest: double (nullable = true)\n",
      " |-- newbalanceDest: double (nullable = true)\n",
      " |-- isFraud: integer (nullable = true)\n",
      " |-- isFlaggedFraud: integer (nullable = true)\n",
      "\n"
     ]
    }
   ],
   "source": [
    "\n",
    "df.printSchema()"
   ]
  },
  {
   "cell_type": "code",
   "execution_count": 12,
   "id": "887189bb",
   "metadata": {},
   "outputs": [
    {
     "name": "stdout",
     "output_type": "stream",
     "text": [
      "+----+--------+--------+-----------+-------------+--------------+-----------+--------------+--------------+-------+--------------+\n",
      "|step|    type|  amount|   nameOrig|oldbalanceOrg|newbalanceOrig|   nameDest|oldbalanceDest|newbalanceDest|isFraud|isFlaggedFraud|\n",
      "+----+--------+--------+-----------+-------------+--------------+-----------+--------------+--------------+-------+--------------+\n",
      "|   1| PAYMENT| 9839.64|C1231006815|     170136.0|     160296.36|M1979787155|           0.0|           0.0|      0|             0|\n",
      "|   1| PAYMENT| 1864.28|C1666544295|      21249.0|      19384.72|M2044282225|           0.0|           0.0|      0|             0|\n",
      "|   1|TRANSFER|   181.0|C1305486145|        181.0|           0.0| C553264065|           0.0|           0.0|      1|             0|\n",
      "|   1|CASH_OUT|   181.0| C840083671|        181.0|           0.0|  C38997010|       21182.0|           0.0|      1|             0|\n",
      "|   1| PAYMENT|11668.14|C2048537720|      41554.0|      29885.86|M1230701703|           0.0|           0.0|      0|             0|\n",
      "+----+--------+--------+-----------+-------------+--------------+-----------+--------------+--------------+-------+--------------+\n",
      "only showing top 5 rows\n",
      "\n"
     ]
    }
   ],
   "source": [
    "df.show(5)"
   ]
  },
  {
   "cell_type": "code",
   "execution_count": 13,
   "id": "1533117c",
   "metadata": {},
   "outputs": [],
   "source": [
    "df = df.select(\"type\", \"amount\", \"oldbalanceOrg\", \"newbalanceOrig\", \"isFraud\")"
   ]
  },
  {
   "cell_type": "code",
   "execution_count": 14,
   "id": "3af03d9b",
   "metadata": {},
   "outputs": [],
   "source": [
    "\"\"\"Train Test Split\"\"\"\n",
    "train, test = df.randomSplit((0.7,  0.3), seed =7)"
   ]
  },
  {
   "cell_type": "code",
   "execution_count": 15,
   "id": "ceed9334",
   "metadata": {},
   "outputs": [
    {
     "name": "stderr",
     "output_type": "stream",
     "text": [
      "                                                                                \r"
     ]
    },
    {
     "name": "stdout",
     "output_type": "stream",
     "text": [
      "Train set length: 4452656 records\n"
     ]
    },
    {
     "name": "stderr",
     "output_type": "stream",
     "text": [
      "\r",
      "[Stage 7:>                                                        (0 + 12) / 12]\r"
     ]
    },
    {
     "name": "stdout",
     "output_type": "stream",
     "text": [
      "Test set length: 1909964 records\n"
     ]
    },
    {
     "name": "stderr",
     "output_type": "stream",
     "text": [
      "\r",
      "[Stage 7:====>                                                    (1 + 11) / 12]\r",
      "\r",
      "                                                                                \r"
     ]
    }
   ],
   "source": [
    "print(f\"Train set length: {train.count()} records\")\n",
    "print(f\"Test set length: {test.count()} records\")"
   ]
  },
  {
   "cell_type": "code",
   "execution_count": 16,
   "id": "a2b3ad53",
   "metadata": {},
   "outputs": [
    {
     "name": "stderr",
     "output_type": "stream",
     "text": [
      "\r",
      "[Stage 10:>                                                         (0 + 1) / 1]\r"
     ]
    },
    {
     "name": "stdout",
     "output_type": "stream",
     "text": [
      "+-------+------+-------------+--------------+-------+\n",
      "|   type|amount|oldbalanceOrg|newbalanceOrig|isFraud|\n",
      "+-------+------+-------------+--------------+-------+\n",
      "|CASH_IN|  5.66|   5061561.06|    5061566.72|      0|\n",
      "|CASH_IN| 13.86|   6868100.18|    6868114.04|      0|\n",
      "+-------+------+-------------+--------------+-------+\n",
      "only showing top 2 rows\n",
      "\n"
     ]
    },
    {
     "name": "stderr",
     "output_type": "stream",
     "text": [
      "\r",
      "                                                                                \r"
     ]
    }
   ],
   "source": [
    "train.show(2)"
   ]
  },
  {
   "cell_type": "code",
   "execution_count": 17,
   "id": "e7719e4e",
   "metadata": {},
   "outputs": [
    {
     "data": {
      "text/plain": [
       "[('type', 'string'),\n",
       " ('amount', 'double'),\n",
       " ('oldbalanceOrg', 'double'),\n",
       " ('newbalanceOrig', 'double'),\n",
       " ('isFraud', 'int')]"
      ]
     },
     "execution_count": 17,
     "metadata": {},
     "output_type": "execute_result"
    }
   ],
   "source": [
    "\"\"\"Dtypes\"\"\"\n",
    "\"\"\"In this dataset, any column of type string is treated as categorical feature, but sometimes we have \n",
    "numerical feature we want to treat as categorical or vice versa. Thus we need to identitfy which columns are\n",
    "categorical and which columns are numerical.\"\"\"\n",
    "train.dtypes"
   ]
  },
  {
   "cell_type": "code",
   "execution_count": 18,
   "id": "80620570",
   "metadata": {},
   "outputs": [],
   "source": [
    "catCols = [x for (x, dataType) in train.dtypes if dataType == \"string\"]\n",
    "numCols = [x for (x, dataType) in train.dtypes if ((dataType == \"double\") & (x!= \"isFraud\")) ]"
   ]
  },
  {
   "cell_type": "code",
   "execution_count": 19,
   "id": "924df761",
   "metadata": {},
   "outputs": [
    {
     "name": "stdout",
     "output_type": "stream",
     "text": [
      "['type']\n",
      "['amount', 'oldbalanceOrg', 'newbalanceOrig']\n"
     ]
    }
   ],
   "source": [
    "print(catCols)\n",
    "print(numCols)"
   ]
  },
  {
   "cell_type": "code",
   "execution_count": 20,
   "id": "1573c61e",
   "metadata": {},
   "outputs": [
    {
     "name": "stderr",
     "output_type": "stream",
     "text": [
      "\r",
      "[Stage 11:>                                                       (0 + 12) / 12]\r"
     ]
    },
    {
     "name": "stdout",
     "output_type": "stream",
     "text": [
      "+-----------+\n",
      "|count(type)|\n",
      "+-----------+\n",
      "|          5|\n",
      "+-----------+\n",
      "\n"
     ]
    },
    {
     "name": "stderr",
     "output_type": "stream",
     "text": [
      "\r",
      "[Stage 11:===================>                                     (4 + 8) / 12]\r",
      "\r",
      "                                                                                \r"
     ]
    }
   ],
   "source": [
    "train.agg(F.countDistinct(\"type\")).show() #no of categories "
   ]
  },
  {
   "cell_type": "code",
   "execution_count": 21,
   "id": "ce622ee3",
   "metadata": {
    "scrolled": true
   },
   "outputs": [
    {
     "name": "stderr",
     "output_type": "stream",
     "text": [
      "\r",
      "[Stage 17:>                                                       (0 + 12) / 12]\r"
     ]
    },
    {
     "name": "stdout",
     "output_type": "stream",
     "text": [
      "23/12/15 06:42:46 WARN RowBasedKeyValueBatch: Calling spill() on RowBasedKeyValueBatch. Will not spill but return 0.\n",
      "23/12/15 06:42:46 WARN RowBasedKeyValueBatch: Calling spill() on RowBasedKeyValueBatch. Will not spill but return 0.\n",
      "23/12/15 06:42:46 WARN RowBasedKeyValueBatch: Calling spill() on RowBasedKeyValueBatch. Will not spill but return 0.\n",
      "23/12/15 06:42:46 WARN RowBasedKeyValueBatch: Calling spill() on RowBasedKeyValueBatch. Will not spill but return 0.\n",
      "23/12/15 06:42:46 WARN RowBasedKeyValueBatch: Calling spill() on RowBasedKeyValueBatch. Will not spill but return 0.\n",
      "23/12/15 06:42:46 WARN RowBasedKeyValueBatch: Calling spill() on RowBasedKeyValueBatch. Will not spill but return 0.\n",
      "23/12/15 06:42:46 WARN RowBasedKeyValueBatch: Calling spill() on RowBasedKeyValueBatch. Will not spill but return 0.\n",
      "23/12/15 06:42:46 WARN RowBasedKeyValueBatch: Calling spill() on RowBasedKeyValueBatch. Will not spill but return 0.\n",
      "23/12/15 06:42:46 WARN RowBasedKeyValueBatch: Calling spill() on RowBasedKeyValueBatch. Will not spill but return 0.\n",
      "23/12/15 06:42:46 WARN RowBasedKeyValueBatch: Calling spill() on RowBasedKeyValueBatch. Will not spill but return 0.\n",
      "23/12/15 06:42:46 WARN RowBasedKeyValueBatch: Calling spill() on RowBasedKeyValueBatch. Will not spill but return 0.\n",
      "23/12/15 06:42:46 WARN RowBasedKeyValueBatch: Calling spill() on RowBasedKeyValueBatch. Will not spill but return 0.\n",
      "+--------+-------+\n",
      "|    type|  count|\n",
      "+--------+-------+\n",
      "|TRANSFER| 372584|\n",
      "| CASH_IN| 979523|\n",
      "|CASH_OUT|1565778|\n",
      "| PAYMENT|1505805|\n",
      "|   DEBIT|  28966|\n",
      "+--------+-------+\n",
      "\n"
     ]
    },
    {
     "name": "stderr",
     "output_type": "stream",
     "text": [
      "\r",
      "[Stage 17:====>                                                   (1 + 11) / 12]\r",
      "\r",
      "                                                                                \r"
     ]
    }
   ],
   "source": [
    "train.groupBy(\"type\").count().show()"
   ]
  },
  {
   "cell_type": "code",
   "execution_count": 22,
   "id": "c5689a83",
   "metadata": {},
   "outputs": [],
   "source": [
    "from pyspark.ml.feature import (\n",
    "OneHotEncoder,\n",
    "StringIndexer)\n"
   ]
  },
  {
   "cell_type": "code",
   "execution_count": 23,
   "id": "a0a33a86",
   "metadata": {},
   "outputs": [],
   "source": [
    "string_indexer  = [StringIndexer(inputCol=x, outputCol = x+ \"_StringIndexer\", handleInvalid= \"skip\")\n",
    "                  for x in catCols]\n"
   ]
  },
  {
   "cell_type": "code",
   "execution_count": 24,
   "id": "2ed714c6",
   "metadata": {},
   "outputs": [
    {
     "data": {
      "text/plain": [
       "[StringIndexer_a39e6c6da99c]"
      ]
     },
     "execution_count": 24,
     "metadata": {},
     "output_type": "execute_result"
    }
   ],
   "source": [
    "string_indexer"
   ]
  },
  {
   "cell_type": "code",
   "execution_count": 25,
   "id": "b5ec8660",
   "metadata": {},
   "outputs": [],
   "source": [
    "\"\"\"One hot encoding \"\"\"\n",
    "one_hot_encoder  =[\n",
    "    OneHotEncoder(\n",
    "        inputCols= [f\"{x}_StringIndexer\" for x in catCols],\n",
    "        outputCols= [f\"{x}_OneHotEncoder\" for x in catCols]          \n",
    "                 )]"
   ]
  },
  {
   "cell_type": "code",
   "execution_count": 26,
   "id": "efc09064",
   "metadata": {},
   "outputs": [
    {
     "data": {
      "text/plain": [
       "[OneHotEncoder_41334fae80ff]"
      ]
     },
     "execution_count": 26,
     "metadata": {},
     "output_type": "execute_result"
    }
   ],
   "source": [
    "one_hot_encoder"
   ]
  },
  {
   "cell_type": "code",
   "execution_count": 27,
   "id": "7e2ae99b",
   "metadata": {},
   "outputs": [],
   "source": [
    "#in spark we have to send all of the feature as a Vector  Assembler does this \n",
    "from pyspark.ml.feature import VectorAssembler"
   ]
  },
  {
   "cell_type": "code",
   "execution_count": 28,
   "id": "c7fe8621",
   "metadata": {},
   "outputs": [],
   "source": [
    "assemblerInput = [x for x in numCols]\n",
    "assemblerInput += [f\"{x}_OneHotEncoder\" for x in catCols]"
   ]
  },
  {
   "cell_type": "code",
   "execution_count": 29,
   "id": "6a0acc38",
   "metadata": {},
   "outputs": [
    {
     "data": {
      "text/plain": [
       "['amount', 'oldbalanceOrg', 'newbalanceOrig', 'type_OneHotEncoder']"
      ]
     },
     "execution_count": 29,
     "metadata": {},
     "output_type": "execute_result"
    }
   ],
   "source": [
    "assemblerInput"
   ]
  },
  {
   "cell_type": "code",
   "execution_count": 30,
   "id": "32a51966",
   "metadata": {},
   "outputs": [],
   "source": [
    "vector_assembler = VectorAssembler(\n",
    "    inputCols = assemblerInput, outputCol = \"VectorAssembler_features\")"
   ]
  },
  {
   "cell_type": "code",
   "execution_count": 31,
   "id": "1481caaf",
   "metadata": {},
   "outputs": [],
   "source": [
    "#Pyspark Pipeline\n",
    "stages = []\n",
    "stages += string_indexer\n",
    "stages += one_hot_encoder\n",
    "stages += [vector_assembler]"
   ]
  },
  {
   "cell_type": "code",
   "execution_count": 32,
   "id": "b34fc465",
   "metadata": {},
   "outputs": [
    {
     "data": {
      "text/plain": [
       "[StringIndexer_a39e6c6da99c,\n",
       " OneHotEncoder_41334fae80ff,\n",
       " VectorAssembler_661f863cd3a6]"
      ]
     },
     "execution_count": 32,
     "metadata": {},
     "output_type": "execute_result"
    }
   ],
   "source": [
    "stages #similar to pipeline in scikit learn"
   ]
  },
  {
   "cell_type": "code",
   "execution_count": 33,
   "id": "603e39c3",
   "metadata": {},
   "outputs": [
    {
     "name": "stderr",
     "output_type": "stream",
     "text": [
      "                                                                                \r"
     ]
    }
   ],
   "source": [
    "from pyspark.ml import Pipeline\n",
    "pipeline = Pipeline().setStages(stages)\n",
    "model = pipeline.fit(train)\n",
    "\n",
    "pp_df = model.transform(test)"
   ]
  },
  {
   "cell_type": "code",
   "execution_count": 34,
   "id": "8f53fe69",
   "metadata": {},
   "outputs": [
    {
     "name": "stderr",
     "output_type": "stream",
     "text": [
      "\r",
      "[Stage 23:>                                                         (0 + 1) / 1]\r"
     ]
    },
    {
     "name": "stdout",
     "output_type": "stream",
     "text": [
      "+-------+------+-------------+--------------+---------------------------------------------------+\n",
      "|type   |amount|oldbalanceOrg|newbalanceOrig|VectorAssembler_features                           |\n",
      "+-------+------+-------------+--------------+---------------------------------------------------+\n",
      "|CASH_IN|14.4  |1.143460813E7|1.143462253E7 |[14.4,1.143460813E7,1.143462253E7,0.0,0.0,1.0,0.0] |\n",
      "|CASH_IN|15.59 |1.64294897E7 |1.642950528E7 |[15.59,1.64294897E7,1.642950528E7,0.0,0.0,1.0,0.0] |\n",
      "|CASH_IN|21.15 |2729078.29   |2729099.44    |[21.15,2729078.29,2729099.44,0.0,0.0,1.0,0.0]      |\n",
      "|CASH_IN|22.67 |405940.0     |405962.67     |[22.67,405940.0,405962.67,0.0,0.0,1.0,0.0]         |\n",
      "|CASH_IN|24.2  |1.803342949E7|1.803345368E7 |[24.2,1.803342949E7,1.803345368E7,0.0,0.0,1.0,0.0] |\n",
      "|CASH_IN|35.47 |3796691.21   |3796726.68    |[35.47,3796691.21,3796726.68,0.0,0.0,1.0,0.0]      |\n",
      "|CASH_IN|38.77 |6210013.72   |6210052.49    |[38.77,6210013.72,6210052.49,0.0,0.0,1.0,0.0]      |\n",
      "|CASH_IN|45.02 |2745236.45   |2745281.46    |[45.02,2745236.45,2745281.46,0.0,0.0,1.0,0.0]      |\n",
      "|CASH_IN|49.27 |1681309.13   |1681358.4     |[49.27,1681309.13,1681358.4,0.0,0.0,1.0,0.0]       |\n",
      "|CASH_IN|57.98 |1290788.6    |1290846.57    |[57.98,1290788.6,1290846.57,0.0,0.0,1.0,0.0]       |\n",
      "|CASH_IN|57.98 |9021204.76   |9021262.74    |[57.98,9021204.76,9021262.74,0.0,0.0,1.0,0.0]      |\n",
      "|CASH_IN|59.23 |20841.0      |20900.23      |[59.23,20841.0,20900.23,0.0,0.0,1.0,0.0]           |\n",
      "|CASH_IN|60.56 |4523045.42   |4523105.97    |[60.56,4523045.42,4523105.97,0.0,0.0,1.0,0.0]      |\n",
      "|CASH_IN|71.85 |1.688345136E7|1.688352321E7 |[71.85,1.688345136E7,1.688352321E7,0.0,0.0,1.0,0.0]|\n",
      "|CASH_IN|72.42 |6183.0       |6255.42       |[72.42,6183.0,6255.42,0.0,0.0,1.0,0.0]             |\n",
      "|CASH_IN|85.96 |30214.0      |30299.96      |[85.96,30214.0,30299.96,0.0,0.0,1.0,0.0]           |\n",
      "|CASH_IN|91.0  |1.120136803E7|1.120145903E7 |[91.0,1.120136803E7,1.120145903E7,0.0,0.0,1.0,0.0] |\n",
      "|CASH_IN|93.31 |170084.31    |170177.62     |[93.31,170084.31,170177.62,0.0,0.0,1.0,0.0]        |\n",
      "|CASH_IN|103.95|79317.56     |79421.51      |[103.95,79317.56,79421.51,0.0,0.0,1.0,0.0]         |\n",
      "|CASH_IN|105.59|115331.61    |115437.2      |[105.59,115331.61,115437.2,0.0,0.0,1.0,0.0]        |\n",
      "+-------+------+-------------+--------------+---------------------------------------------------+\n",
      "only showing top 20 rows\n",
      "\n"
     ]
    },
    {
     "name": "stderr",
     "output_type": "stream",
     "text": [
      "\r",
      "                                                                                \r"
     ]
    }
   ],
   "source": [
    "pp_df.select(\n",
    "    \"type\", \"amount\", \"oldbalanceOrg\", \"newbalanceOrig\",\"VectorAssembler_features\" ).show(truncate = False)"
   ]
  },
  {
   "cell_type": "code",
   "execution_count": 35,
   "id": "1c43e350",
   "metadata": {},
   "outputs": [],
   "source": [
    "\"\"\"Logistic Regression \"\"\"\n",
    "from pyspark.ml.classification import LogisticRegression"
   ]
  },
  {
   "cell_type": "code",
   "execution_count": 36,
   "id": "7a3c59c3",
   "metadata": {},
   "outputs": [],
   "source": [
    "data = pp_df.select(\n",
    "    F.col(\"VectorAssembler_features\").alias(\"features\"),\n",
    "    F.col(\"isFraud\").alias(\"label\"))"
   ]
  },
  {
   "cell_type": "code",
   "execution_count": 37,
   "id": "b3917d7e",
   "metadata": {},
   "outputs": [
    {
     "name": "stderr",
     "output_type": "stream",
     "text": [
      "\r",
      "[Stage 24:>                                                         (0 + 1) / 1]\r"
     ]
    },
    {
     "name": "stdout",
     "output_type": "stream",
     "text": [
      "+--------------------------------------------------+-----+\n",
      "|features                                          |label|\n",
      "+--------------------------------------------------+-----+\n",
      "|[14.4,1.143460813E7,1.143462253E7,0.0,0.0,1.0,0.0]|0    |\n",
      "|[15.59,1.64294897E7,1.642950528E7,0.0,0.0,1.0,0.0]|0    |\n",
      "|[21.15,2729078.29,2729099.44,0.0,0.0,1.0,0.0]     |0    |\n",
      "|[22.67,405940.0,405962.67,0.0,0.0,1.0,0.0]        |0    |\n",
      "|[24.2,1.803342949E7,1.803345368E7,0.0,0.0,1.0,0.0]|0    |\n",
      "+--------------------------------------------------+-----+\n",
      "only showing top 5 rows\n",
      "\n"
     ]
    },
    {
     "name": "stderr",
     "output_type": "stream",
     "text": [
      "\r",
      "                                                                                \r"
     ]
    }
   ],
   "source": [
    "data.show(5, truncate = False)"
   ]
  },
  {
   "cell_type": "code",
   "execution_count": 38,
   "id": "ee838124",
   "metadata": {},
   "outputs": [
    {
     "name": "stderr",
     "output_type": "stream",
     "text": [
      "                                                                                \r"
     ]
    },
    {
     "name": "stdout",
     "output_type": "stream",
     "text": [
      "CPU times: user 11 ms, sys: 5.94 ms, total: 17 ms\n",
      "Wall time: 12.4 s\n"
     ]
    }
   ],
   "source": [
    "%%time\n",
    "model = LogisticRegression().fit(data)"
   ]
  },
  {
   "cell_type": "code",
   "execution_count": 39,
   "id": "0e84ef7e",
   "metadata": {},
   "outputs": [
    {
     "name": "stderr",
     "output_type": "stream",
     "text": [
      "                                                                                \r"
     ]
    },
    {
     "data": {
      "text/plain": [
       "0.9930925361016105"
      ]
     },
     "execution_count": 39,
     "metadata": {},
     "output_type": "execute_result"
    }
   ],
   "source": [
    "model.summary.areaUnderROC"
   ]
  },
  {
   "cell_type": "code",
   "execution_count": 40,
   "id": "d104f66f",
   "metadata": {},
   "outputs": [
    {
     "name": "stdout",
     "output_type": "stream",
     "text": [
      "+-------------------+-------------------+\n",
      "|             recall|          precision|\n",
      "+-------------------+-------------------+\n",
      "|                0.0| 0.8992654774396642|\n",
      "|0.35887772194304857| 0.8992654774396642|\n",
      "|0.47571189279731996| 0.6558891454965358|\n",
      "| 0.5510887772194305| 0.5240939864595778|\n",
      "| 0.5954773869346733|0.43221884498480245|\n",
      "| 0.6256281407035176|0.36716637994593265|\n",
      "| 0.6612227805695142| 0.3257013201320132|\n",
      "| 0.6888609715242882| 0.2923405011551448|\n",
      "|  0.714824120603015|0.26646893537308775|\n",
      "| 0.7349246231155779|0.24425887265135698|\n",
      "| 0.7546063651591289|0.22626820693119035|\n",
      "| 0.7713567839195979|0.21068283197986962|\n",
      "| 0.7876884422110553|0.19754253308128544|\n",
      "| 0.7981574539363484|0.18503057955538296|\n",
      "|  0.804857621440536|0.17346570397111913|\n",
      "| 0.8069514237855946|0.16249262163757483|\n",
      "| 0.8111390284757118|0.15325579555344568|\n",
      "| 0.8136515912897823|0.14480548516917574|\n",
      "| 0.8165829145728644|0.13735296189335774|\n",
      "| 0.8207705192629816|0.13087606837606838|\n",
      "+-------------------+-------------------+\n",
      "only showing top 20 rows\n",
      "\n"
     ]
    }
   ],
   "source": [
    "model.summary.pr.show()"
   ]
  },
  {
   "cell_type": "code",
   "execution_count": null,
   "id": "4b6ee4d3",
   "metadata": {},
   "outputs": [],
   "source": []
  }
 ],
 "metadata": {
  "kernelspec": {
   "display_name": "Python 3 (ipykernel)",
   "language": "python",
   "name": "python3"
  },
  "language_info": {
   "codemirror_mode": {
    "name": "ipython",
    "version": 3
   },
   "file_extension": ".py",
   "mimetype": "text/x-python",
   "name": "python",
   "nbconvert_exporter": "python",
   "pygments_lexer": "ipython3",
   "version": "3.8.10"
  }
 },
 "nbformat": 4,
 "nbformat_minor": 5
}
